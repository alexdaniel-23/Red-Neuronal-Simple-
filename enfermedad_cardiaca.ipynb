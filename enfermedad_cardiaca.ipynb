{
 "cells": [
  {
   "cell_type": "code",
   "execution_count": 35,
   "metadata": {},
   "outputs": [],
   "source": [
    "#librerias para la exploracion inicial\n",
    "import pandas as pd\n",
    "import numpy as np\n",
    "import matplotlib.pyplot as plt\n",
    "import seaborn as sns "
   ]
  },
  {
   "cell_type": "markdown",
   "metadata": {},
   "source": [
    "# **ACERCA DEL DATASET**"
   ]
  },
  {
   "cell_type": "code",
   "execution_count": 36,
   "metadata": {},
   "outputs": [
    {
     "name": "stderr",
     "output_type": "stream",
     "text": [
      "<>:1: SyntaxWarning: invalid escape sequence '\\F'\n",
      "<>:1: SyntaxWarning: invalid escape sequence '\\F'\n",
      "C:\\Users\\Usuario\\AppData\\Local\\Temp\\ipykernel_16936\\3136642533.py:1: SyntaxWarning: invalid escape sequence '\\F'\n",
      "  enfermedades_cardiacas =\"E:\\FONDO TALENTO DIGITAL\\Portafolio_GITHUB\\Red Neuronal Simple\\Red-Neuronal-Simple-\\heart - heart.csv\"\n"
     ]
    },
    {
     "data": {
      "text/html": [
       "<div>\n",
       "<style scoped>\n",
       "    .dataframe tbody tr th:only-of-type {\n",
       "        vertical-align: middle;\n",
       "    }\n",
       "\n",
       "    .dataframe tbody tr th {\n",
       "        vertical-align: top;\n",
       "    }\n",
       "\n",
       "    .dataframe thead th {\n",
       "        text-align: right;\n",
       "    }\n",
       "</style>\n",
       "<table border=\"1\" class=\"dataframe\">\n",
       "  <thead>\n",
       "    <tr style=\"text-align: right;\">\n",
       "      <th></th>\n",
       "      <th>Age</th>\n",
       "      <th>Sex</th>\n",
       "      <th>ChestPainType</th>\n",
       "      <th>RestingBP</th>\n",
       "      <th>Cholesterol</th>\n",
       "      <th>FastingBS</th>\n",
       "      <th>RestingECG</th>\n",
       "      <th>MaxHR</th>\n",
       "      <th>ExerciseAngina</th>\n",
       "      <th>Oldpeak</th>\n",
       "      <th>ST_Slope</th>\n",
       "      <th>HeartDisease</th>\n",
       "    </tr>\n",
       "  </thead>\n",
       "  <tbody>\n",
       "    <tr>\n",
       "      <th>0</th>\n",
       "      <td>40</td>\n",
       "      <td>M</td>\n",
       "      <td>ATA</td>\n",
       "      <td>140</td>\n",
       "      <td>289</td>\n",
       "      <td>0</td>\n",
       "      <td>Normal</td>\n",
       "      <td>172</td>\n",
       "      <td>N</td>\n",
       "      <td>0.0</td>\n",
       "      <td>Up</td>\n",
       "      <td>0</td>\n",
       "    </tr>\n",
       "    <tr>\n",
       "      <th>1</th>\n",
       "      <td>49</td>\n",
       "      <td>F</td>\n",
       "      <td>NAP</td>\n",
       "      <td>160</td>\n",
       "      <td>180</td>\n",
       "      <td>0</td>\n",
       "      <td>Normal</td>\n",
       "      <td>156</td>\n",
       "      <td>N</td>\n",
       "      <td>1.0</td>\n",
       "      <td>Flat</td>\n",
       "      <td>1</td>\n",
       "    </tr>\n",
       "    <tr>\n",
       "      <th>2</th>\n",
       "      <td>37</td>\n",
       "      <td>M</td>\n",
       "      <td>ATA</td>\n",
       "      <td>130</td>\n",
       "      <td>283</td>\n",
       "      <td>0</td>\n",
       "      <td>ST</td>\n",
       "      <td>98</td>\n",
       "      <td>N</td>\n",
       "      <td>0.0</td>\n",
       "      <td>Up</td>\n",
       "      <td>0</td>\n",
       "    </tr>\n",
       "  </tbody>\n",
       "</table>\n",
       "</div>"
      ],
      "text/plain": [
       "   Age Sex ChestPainType  RestingBP  Cholesterol  FastingBS RestingECG  MaxHR  \\\n",
       "0   40   M           ATA        140          289          0     Normal    172   \n",
       "1   49   F           NAP        160          180          0     Normal    156   \n",
       "2   37   M           ATA        130          283          0         ST     98   \n",
       "\n",
       "  ExerciseAngina  Oldpeak ST_Slope  HeartDisease  \n",
       "0              N      0.0       Up             0  \n",
       "1              N      1.0     Flat             1  \n",
       "2              N      0.0       Up             0  "
      ]
     },
     "execution_count": 36,
     "metadata": {},
     "output_type": "execute_result"
    }
   ],
   "source": [
    "enfermedades_cardiacas =\"E:\\FONDO TALENTO DIGITAL\\Portafolio_GITHUB\\Red Neuronal Simple\\Red-Neuronal-Simple-\\heart - heart.csv\"\n",
    "df =pd.read_csv(enfermedades_cardiacas)\n",
    "df.head(3)"
   ]
  },
  {
   "cell_type": "code",
   "execution_count": 37,
   "metadata": {},
   "outputs": [
    {
     "name": "stdout",
     "output_type": "stream",
     "text": [
      "El Dataset contiene '918' filas\n",
      "El Dataset contiene'12' columnas\n"
     ]
    }
   ],
   "source": [
    "df.shape\n",
    "print(f\"El Dataset contiene '{df.shape[0]}' filas\")\n",
    "print(f\"El Dataset contiene'{df.shape[1]}' columnas\")"
   ]
  },
  {
   "cell_type": "code",
   "execution_count": 38,
   "metadata": {},
   "outputs": [
    {
     "data": {
      "text/plain": [
       "0"
      ]
     },
     "execution_count": 38,
     "metadata": {},
     "output_type": "execute_result"
    }
   ],
   "source": [
    "#verificando filas duplicadas\n",
    "df.duplicated().sum()"
   ]
  },
  {
   "cell_type": "code",
   "execution_count": 39,
   "metadata": {},
   "outputs": [
    {
     "data": {
      "text/plain": [
       "Index(['Age', 'Sex', 'ChestPainType', 'RestingBP', 'Cholesterol', 'FastingBS',\n",
       "       'RestingECG', 'MaxHR', 'ExerciseAngina', 'Oldpeak', 'ST_Slope',\n",
       "       'HeartDisease'],\n",
       "      dtype='object')"
      ]
     },
     "execution_count": 39,
     "metadata": {},
     "output_type": "execute_result"
    }
   ],
   "source": [
    "#caracteristicas del dataset\n",
    "df.columns"
   ]
  },
  {
   "cell_type": "code",
   "execution_count": 40,
   "metadata": {},
   "outputs": [
    {
     "data": {
      "text/plain": [
       "Age               0\n",
       "Sex               0\n",
       "ChestPainType     0\n",
       "RestingBP         0\n",
       "Cholesterol       0\n",
       "FastingBS         0\n",
       "RestingECG        0\n",
       "MaxHR             0\n",
       "ExerciseAngina    0\n",
       "Oldpeak           0\n",
       "ST_Slope          0\n",
       "HeartDisease      0\n",
       "dtype: int64"
      ]
     },
     "execution_count": 40,
     "metadata": {},
     "output_type": "execute_result"
    }
   ],
   "source": [
    "#verificando valores nulos\n",
    "df.isnull().sum()"
   ]
  },
  {
   "cell_type": "code",
   "execution_count": 41,
   "metadata": {},
   "outputs": [
    {
     "name": "stdout",
     "output_type": "stream",
     "text": [
      "<class 'pandas.core.frame.DataFrame'>\n",
      "RangeIndex: 918 entries, 0 to 917\n",
      "Data columns (total 12 columns):\n",
      " #   Column          Non-Null Count  Dtype  \n",
      "---  ------          --------------  -----  \n",
      " 0   Age             918 non-null    int64  \n",
      " 1   Sex             918 non-null    object \n",
      " 2   ChestPainType   918 non-null    object \n",
      " 3   RestingBP       918 non-null    int64  \n",
      " 4   Cholesterol     918 non-null    int64  \n",
      " 5   FastingBS       918 non-null    int64  \n",
      " 6   RestingECG      918 non-null    object \n",
      " 7   MaxHR           918 non-null    int64  \n",
      " 8   ExerciseAngina  918 non-null    object \n",
      " 9   Oldpeak         918 non-null    float64\n",
      " 10  ST_Slope        918 non-null    object \n",
      " 11  HeartDisease    918 non-null    int64  \n",
      "dtypes: float64(1), int64(6), object(5)\n",
      "memory usage: 86.2+ KB\n"
     ]
    }
   ],
   "source": [
    "df.info()"
   ]
  },
  {
   "cell_type": "markdown",
   "metadata": {},
   "source": [
    "La informacion inicial que obtenemos sobre el Dataset de enfermedades cardiacas es la siguiente:\n",
    "* El Dataset contiene *918 filas las cuales son unicas* sin presencia de valores duplicados\n",
    "* El Dataset contiene *12 columnas* o caracteristicas las cuales *no poseen ningun valor vacio o NAN*\n",
    "* Contamos con *5* caracteristicas del tipo Object o categoricas y *7* caracteristicas del tipo numerico tanto Int y Float\n",
    "* La variable objetivo o el target es: \"HeartDisease\""
   ]
  },
  {
   "cell_type": "markdown",
   "metadata": {},
   "source": [
    "# **EXPLORATORY DATA ANALYSIS**"
   ]
  },
  {
   "cell_type": "markdown",
   "metadata": {},
   "source": [
    "### **ANALISIS DE LAS VARIABLES CATEGORICAS**"
   ]
  },
  {
   "cell_type": "markdown",
   "metadata": {},
   "source": [
    "* Age: edad del paciente [años]\n",
    "* Sex: sexo del paciente [M: masculino, F: femenino]\n",
    "* ChestPainType: tipo de dolor de pecho [TA: angina típica, ATA: angina atípica, NAP: dolor no anginoso, ASY: asintomático]\n",
    "* RestingBP: presión sanguínea en estado de reposo [mm Hg]\n",
    "* Colesterol: colesterol sérico [mm/dl]\n",
    "* FastingBS: azúcar en sangre en ayunas [1: si FastingBS > 120 mg/dl, 0: en caso contrario]\n",
    "* RestingECG: resultados de electrocardiograma en reposo [Normal: normal, ST: tener una anormalidad en la onda ST-T (inversiones de onda T y/o elevación o depresión de ST de > 0.05 mV), LVH: muestra hipertrofia ventricular izquierda probable o definitiva según los criterios de Estes].\n",
    "* MaxHR: máximo ritmo cardíaco alcanzado [valor numérico entre 60 y 202]\n",
    "* ExerciseAngina: angina inducida por el ejercicio [Y: sí, N: no]\n",
    "Oldpeak: oldpeak = ST [valor numérico medido en depresión]\n",
    "* ST_Slope: la pendiente del ejercicio máximo en el segmento ST [Up: pendiente ascendente, Flat: plano, Down: pendiente descendente]\n",
    "* HeartDisease: enfermedad cardíaca, clase de salida [1: enfermedad cardíaca, 0: normal"
   ]
  },
  {
   "cell_type": "code",
   "execution_count": 42,
   "metadata": {},
   "outputs": [
    {
     "data": {
      "text/plain": [
       "Index(['Age', 'Sex', 'ChestPainType', 'RestingBP', 'Cholesterol', 'FastingBS',\n",
       "       'RestingECG', 'MaxHR', 'ExerciseAngina', 'Oldpeak', 'ST_Slope',\n",
       "       'HeartDisease'],\n",
       "      dtype='object')"
      ]
     },
     "execution_count": 42,
     "metadata": {},
     "output_type": "execute_result"
    }
   ],
   "source": [
    "df.columns"
   ]
  },
  {
   "cell_type": "code",
   "execution_count": 43,
   "metadata": {},
   "outputs": [],
   "source": [
    "#renombramiento\n",
    "df.rename(columns={'Age':'Edad', 'Sex':'Sexo', \n",
    "                   'ChestPainType':'TipoDolorDePecho', \n",
    "                   'RestingBP':'PresionSanguinea', \n",
    "                   'Cholesterol':'Colesterol', \n",
    "                   'FastingBS':'AzucarEnSangre',\n",
    "                    'RestingECG':'ResElectrocardiograma',\n",
    "                    'MaxHR':'MaxRitmoCardiaco',\n",
    "                    'ExerciseAngina':'AnginaEjercicio', \n",
    "                    'Oldpeak':'DepresionDelSt', \n",
    "                    'ST_Slope':'PendienteSt',\n",
    "                    'HeartDisease':'EnfermedadCardiaca'},inplace=True)"
   ]
  },
  {
   "cell_type": "code",
   "execution_count": 44,
   "metadata": {},
   "outputs": [
    {
     "name": "stdout",
     "output_type": "stream",
     "text": [
      "<class 'pandas.core.frame.DataFrame'>\n",
      "RangeIndex: 918 entries, 0 to 917\n",
      "Data columns (total 12 columns):\n",
      " #   Column                 Non-Null Count  Dtype  \n",
      "---  ------                 --------------  -----  \n",
      " 0   Edad                   918 non-null    int64  \n",
      " 1   Sexo                   918 non-null    object \n",
      " 2   TipoDolorDePecho       918 non-null    object \n",
      " 3   PresionSanguinea       918 non-null    int64  \n",
      " 4   Colesterol             918 non-null    int64  \n",
      " 5   AzucarEnSangre         918 non-null    int64  \n",
      " 6   ResElectrocardiograma  918 non-null    object \n",
      " 7   MaxRitmoCardiaco       918 non-null    int64  \n",
      " 8   AnginaEjercicio        918 non-null    object \n",
      " 9   DepresionDelSt         918 non-null    float64\n",
      " 10  PendienteSt            918 non-null    object \n",
      " 11  EnfermedadCardiaca     918 non-null    int64  \n",
      "dtypes: float64(1), int64(6), object(5)\n",
      "memory usage: 86.2+ KB\n"
     ]
    }
   ],
   "source": [
    "df.info()"
   ]
  },
  {
   "cell_type": "code",
   "execution_count": 45,
   "metadata": {},
   "outputs": [
    {
     "name": "stdout",
     "output_type": "stream",
     "text": [
      "Valores unicos en la columna 'Sexo' \n",
      "['M' 'F']\n",
      "\n",
      "Valores unicos en la columna 'TipoDolorDePecho' \n",
      "['ATA' 'NAP' 'ASY' 'TA']\n",
      "\n",
      "Valores unicos en la columna 'ResElectrocardiograma' \n",
      "['Normal' 'ST' 'LVH']\n",
      "\n",
      "Valores unicos en la columna 'AnginaEjercicio' \n",
      "['N' 'Y']\n",
      "\n",
      "Valores unicos en la columna 'PendienteSt' \n",
      "['Up' 'Flat' 'Down']\n",
      "\n"
     ]
    }
   ],
   "source": [
    "cols_categoricas =df.select_dtypes(exclude= ['int64','float64'])\n",
    "for col in cols_categoricas:\n",
    "    print(f\"Valores unicos en la columna '{col}' \")\n",
    "    print(df[col].unique())\n",
    "    print()"
   ]
  },
  {
   "cell_type": "markdown",
   "metadata": {},
   "source": [
    "*Observamos que las variables categoricas no presentan valores redundantes o incesarios por lo cual se decide procesar a realizar graficos que nos indiquen la presencia e importancia de estos datos*"
   ]
  },
  {
   "cell_type": "markdown",
   "metadata": {},
   "source": [
    "#### **GRAFICOS DE FRECUENCIA PARA LAS VARIABLES CATEGORICAS**"
   ]
  },
  {
   "cell_type": "code",
   "execution_count": 46,
   "metadata": {},
   "outputs": [
    {
     "name": "stdout",
     "output_type": "stream",
     "text": [
      "<class 'pandas.core.frame.DataFrame'>\n",
      "RangeIndex: 918 entries, 0 to 917\n",
      "Data columns (total 5 columns):\n",
      " #   Column                 Non-Null Count  Dtype \n",
      "---  ------                 --------------  ----- \n",
      " 0   Sexo                   918 non-null    object\n",
      " 1   TipoDolorDePecho       918 non-null    object\n",
      " 2   ResElectrocardiograma  918 non-null    object\n",
      " 3   AnginaEjercicio        918 non-null    object\n",
      " 4   PendienteSt            918 non-null    object\n",
      "dtypes: object(5)\n",
      "memory usage: 36.0+ KB\n"
     ]
    }
   ],
   "source": [
    "df.select_dtypes(exclude= ['int64','float64']).info()"
   ]
  },
  {
   "cell_type": "markdown",
   "metadata": {},
   "source": [
    "##### **CATEGORIA SEXO**"
   ]
  },
  {
   "cell_type": "code",
   "execution_count": 47,
   "metadata": {},
   "outputs": [
    {
     "name": "stderr",
     "output_type": "stream",
     "text": [
      "C:\\Users\\Usuario\\AppData\\Local\\Temp\\ipykernel_16936\\939927933.py:2: FutureWarning: \n",
      "\n",
      "Passing `palette` without assigning `hue` is deprecated and will be removed in v0.14.0. Assign the `x` variable to `hue` and set `legend=False` for the same effect.\n",
      "\n",
      "  sns.countplot(data=df, x=df['Sexo'], palette=['#1f77b4', '#ff7f0e'])\n"
     ]
    },
    {
     "data": {
      "image/png": "[encoded data removed]",
      "text/plain": [
       "<Figure size 800x500 with 1 Axes>"
      ]
     },
     "metadata": {},
     "output_type": "display_data"
    }
   ],
   "source": [
    "plt.figure(figsize=(8, 5))\n",
    "sns.countplot(data=df, x=df['Sexo'], palette=['#1f77b4', '#ff7f0e'])\n",
    "plt.title(f'Frecuencia de Sexo')\n",
    "plt.grid()\n",
    "plt.show()"
   ]
  },
  {
   "cell_type": "code",
   "execution_count": 48,
   "metadata": {},
   "outputs": [
    {
     "data": {
      "text/plain": [
       "Sexo\n",
       "M    725\n",
       "F    193\n",
       "Name: count, dtype: int64"
      ]
     },
     "execution_count": 48,
     "metadata": {},
     "output_type": "execute_result"
    }
   ],
   "source": [
    "df['Sexo'].value_counts()"
   ]
  },
  {
   "cell_type": "markdown",
   "metadata": {},
   "source": [
    "En base a este grafico de la distribucion de frecuencia en la categoria de sexo inferimos lo siguiente:\n",
    "* La poblacion masculina es la que sufre mas enfermedades cardiacas superando significativamente a la población femenina, observando una diferencia por encima de 500 personas.\n",
    "* Se debe tener principal enfasis en la poblaciónj masculina."
   ]
  },
  {
   "cell_type": "markdown",
   "metadata": {},
   "source": [
    "##### **CATEGORIA DEL TIPO DE DOLOR DE PECHO**"
   ]
  },
  {
   "cell_type": "code",
   "execution_count": 49,
   "metadata": {},
   "outputs": [
    {
     "data": {
      "text/plain": [
       "TipoDolorDePecho\n",
       "ASY    496\n",
       "NAP    203\n",
       "ATA    173\n",
       "TA      46\n",
       "Name: count, dtype: int64"
      ]
     },
     "execution_count": 49,
     "metadata": {},
     "output_type": "execute_result"
    }
   ],
   "source": [
    "frecuencia = df[\"TipoDolorDePecho\"].value_counts()\n",
    "frecuencia"
   ]
  },
  {
   "cell_type": "code",
   "execution_count": 50,
   "metadata": {},
   "outputs": [
    {
     "data": {
      "image/png": "[encoded data removed]",
      "text/plain": [
       "<Figure size 800x800 with 1 Axes>"
      ]
     },
     "metadata": {},
     "output_type": "display_data"
    }
   ],
   "source": [
    "plt.figure(figsize=(8,8))\n",
    "plt.pie(frecuencia,labels=frecuencia.index,autopct='%1.1f%%', \n",
    "        colors=sns.color_palette('pastel'))\n",
    "plt.title(\"Distribucion del Tipo de dolor de pecho\")\n",
    "plt.show()"
   ]
  },
  {
   "cell_type": "markdown",
   "metadata": {},
   "source": [
    "En base a este grafico de pastel inferimos lo siguiente:\n",
    "* El principal dolor de pecho que presentan la poblacion en estudio es el dolor del tipo ASY(\"Asintomatico\") el cual representa mas del 50% de ocurrencias en la poblacion de estudio.\n",
    "* EL otro 50% lo representasn los demas tipos de dolores en el precho dentro de los cuales el dolor tipo NAP(\"Dolor no asignado\") tiene una incidencia del 22.1% en la población seguido por muy poco del dolor del tipo ATA(\"Angina atipica\") representado por el 18.8% en el nivel de incidencia.\n",
    "* El tipo de dolor TA(\"Angina Tipica\") es el que tiene menor incidencia en la población."
   ]
  },
  {
   "cell_type": "code",
   "execution_count": null,
   "metadata": {},
   "outputs": [],
   "source": []
  }
 ],
 "metadata": {
  "kernelspec": {
   "display_name": "Python 3",
   "language": "python",
   "name": "python3"
  },
  "language_info": {
   "codemirror_mode": {
    "name": "ipython",
    "version": 3
   },
   "file_extension": ".py",
   "mimetype": "text/x-python",
   "name": "python",
   "nbconvert_exporter": "python",
   "pygments_lexer": "ipython3",
   "version": "3.12.0"
  }
 },
 "nbformat": 4,
 "nbformat_minor": 2
}
