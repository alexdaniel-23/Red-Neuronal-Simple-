{
 "cells": [
  {
   "cell_type": "code",
   "execution_count": 2,
   "metadata": {},
   "outputs": [],
   "source": [
    "#librerias para la exploracion inicial\n",
    "import pandas as pd\n",
    "import numpy as np\n",
    "import matplotlib.pyplot as plt\n",
    "import seaborn as sns "
   ]
  },
  {
   "cell_type": "markdown",
   "metadata": {},
   "source": [
    "# **ACERCA DEL DATASET**"
   ]
  },
  {
   "cell_type": "code",
   "execution_count": 3,
   "metadata": {},
   "outputs": [
    {
     "name": "stderr",
     "output_type": "stream",
     "text": [
      "<>:1: SyntaxWarning: invalid escape sequence '\\F'\n",
      "<>:1: SyntaxWarning: invalid escape sequence '\\F'\n",
      "C:\\Users\\Usuario\\AppData\\Local\\Temp\\ipykernel_27244\\3136642533.py:1: SyntaxWarning: invalid escape sequence '\\F'\n",
      "  enfermedades_cardiacas =\"E:\\FONDO TALENTO DIGITAL\\Portafolio_GITHUB\\Red Neuronal Simple\\Red-Neuronal-Simple-\\heart - heart.csv\"\n"
     ]
    },
    {
     "data": {
      "text/html": [
       "<div>\n",
       "<style scoped>\n",
       "    .dataframe tbody tr th:only-of-type {\n",
       "        vertical-align: middle;\n",
       "    }\n",
       "\n",
       "    .dataframe tbody tr th {\n",
       "        vertical-align: top;\n",
       "    }\n",
       "\n",
       "    .dataframe thead th {\n",
       "        text-align: right;\n",
       "    }\n",
       "</style>\n",
       "<table border=\"1\" class=\"dataframe\">\n",
       "  <thead>\n",
       "    <tr style=\"text-align: right;\">\n",
       "      <th></th>\n",
       "      <th>Age</th>\n",
       "      <th>Sex</th>\n",
       "      <th>ChestPainType</th>\n",
       "      <th>RestingBP</th>\n",
       "      <th>Cholesterol</th>\n",
       "      <th>FastingBS</th>\n",
       "      <th>RestingECG</th>\n",
       "      <th>MaxHR</th>\n",
       "      <th>ExerciseAngina</th>\n",
       "      <th>Oldpeak</th>\n",
       "      <th>ST_Slope</th>\n",
       "      <th>HeartDisease</th>\n",
       "    </tr>\n",
       "  </thead>\n",
       "  <tbody>\n",
       "    <tr>\n",
       "      <th>0</th>\n",
       "      <td>40</td>\n",
       "      <td>M</td>\n",
       "      <td>ATA</td>\n",
       "      <td>140</td>\n",
       "      <td>289</td>\n",
       "      <td>0</td>\n",
       "      <td>Normal</td>\n",
       "      <td>172</td>\n",
       "      <td>N</td>\n",
       "      <td>0.0</td>\n",
       "      <td>Up</td>\n",
       "      <td>0</td>\n",
       "    </tr>\n",
       "    <tr>\n",
       "      <th>1</th>\n",
       "      <td>49</td>\n",
       "      <td>F</td>\n",
       "      <td>NAP</td>\n",
       "      <td>160</td>\n",
       "      <td>180</td>\n",
       "      <td>0</td>\n",
       "      <td>Normal</td>\n",
       "      <td>156</td>\n",
       "      <td>N</td>\n",
       "      <td>1.0</td>\n",
       "      <td>Flat</td>\n",
       "      <td>1</td>\n",
       "    </tr>\n",
       "    <tr>\n",
       "      <th>2</th>\n",
       "      <td>37</td>\n",
       "      <td>M</td>\n",
       "      <td>ATA</td>\n",
       "      <td>130</td>\n",
       "      <td>283</td>\n",
       "      <td>0</td>\n",
       "      <td>ST</td>\n",
       "      <td>98</td>\n",
       "      <td>N</td>\n",
       "      <td>0.0</td>\n",
       "      <td>Up</td>\n",
       "      <td>0</td>\n",
       "    </tr>\n",
       "  </tbody>\n",
       "</table>\n",
       "</div>"
      ],
      "text/plain": [
       "   Age Sex ChestPainType  RestingBP  Cholesterol  FastingBS RestingECG  MaxHR  \\\n",
       "0   40   M           ATA        140          289          0     Normal    172   \n",
       "1   49   F           NAP        160          180          0     Normal    156   \n",
       "2   37   M           ATA        130          283          0         ST     98   \n",
       "\n",
       "  ExerciseAngina  Oldpeak ST_Slope  HeartDisease  \n",
       "0              N      0.0       Up             0  \n",
       "1              N      1.0     Flat             1  \n",
       "2              N      0.0       Up             0  "
      ]
     },
     "execution_count": 3,
     "metadata": {},
     "output_type": "execute_result"
    }
   ],
   "source": [
    "enfermedades_cardiacas =\"E:\\FONDO TALENTO DIGITAL\\Portafolio_GITHUB\\Red Neuronal Simple\\Red-Neuronal-Simple-\\heart - heart.csv\"\n",
    "df =pd.read_csv(enfermedades_cardiacas)\n",
    "df.head(3)"
   ]
  },
  {
   "cell_type": "code",
   "execution_count": 4,
   "metadata": {},
   "outputs": [
    {
     "name": "stdout",
     "output_type": "stream",
     "text": [
      "El Dataset contiene '918' filas\n",
      "El Dataset contiene'12' columnas\n"
     ]
    }
   ],
   "source": [
    "df.shape\n",
    "print(f\"El Dataset contiene '{df.shape[0]}' filas\")\n",
    "print(f\"El Dataset contiene'{df.shape[1]}' columnas\")"
   ]
  },
  {
   "cell_type": "code",
   "execution_count": 5,
   "metadata": {},
   "outputs": [
    {
     "data": {
      "text/plain": [
       "0"
      ]
     },
     "execution_count": 5,
     "metadata": {},
     "output_type": "execute_result"
    }
   ],
   "source": [
    "#verificando filas duplicadas\n",
    "df.duplicated().sum()"
   ]
  },
  {
   "cell_type": "code",
   "execution_count": 6,
   "metadata": {},
   "outputs": [
    {
     "data": {
      "text/plain": [
       "Index(['Age', 'Sex', 'ChestPainType', 'RestingBP', 'Cholesterol', 'FastingBS',\n",
       "       'RestingECG', 'MaxHR', 'ExerciseAngina', 'Oldpeak', 'ST_Slope',\n",
       "       'HeartDisease'],\n",
       "      dtype='object')"
      ]
     },
     "execution_count": 6,
     "metadata": {},
     "output_type": "execute_result"
    }
   ],
   "source": [
    "#caracteristicas del dataset\n",
    "df.columns"
   ]
  },
  {
   "cell_type": "code",
   "execution_count": 7,
   "metadata": {},
   "outputs": [
    {
     "data": {
      "text/plain": [
       "Age               0\n",
       "Sex               0\n",
       "ChestPainType     0\n",
       "RestingBP         0\n",
       "Cholesterol       0\n",
       "FastingBS         0\n",
       "RestingECG        0\n",
       "MaxHR             0\n",
       "ExerciseAngina    0\n",
       "Oldpeak           0\n",
       "ST_Slope          0\n",
       "HeartDisease      0\n",
       "dtype: int64"
      ]
     },
     "execution_count": 7,
     "metadata": {},
     "output_type": "execute_result"
    }
   ],
   "source": [
    "#verificando valores nulos\n",
    "df.isnull().sum()"
   ]
  },
  {
   "cell_type": "code",
   "execution_count": 8,
   "metadata": {},
   "outputs": [
    {
     "name": "stdout",
     "output_type": "stream",
     "text": [
      "<class 'pandas.core.frame.DataFrame'>\n",
      "RangeIndex: 918 entries, 0 to 917\n",
      "Data columns (total 12 columns):\n",
      " #   Column          Non-Null Count  Dtype  \n",
      "---  ------          --------------  -----  \n",
      " 0   Age             918 non-null    int64  \n",
      " 1   Sex             918 non-null    object \n",
      " 2   ChestPainType   918 non-null    object \n",
      " 3   RestingBP       918 non-null    int64  \n",
      " 4   Cholesterol     918 non-null    int64  \n",
      " 5   FastingBS       918 non-null    int64  \n",
      " 6   RestingECG      918 non-null    object \n",
      " 7   MaxHR           918 non-null    int64  \n",
      " 8   ExerciseAngina  918 non-null    object \n",
      " 9   Oldpeak         918 non-null    float64\n",
      " 10  ST_Slope        918 non-null    object \n",
      " 11  HeartDisease    918 non-null    int64  \n",
      "dtypes: float64(1), int64(6), object(5)\n",
      "memory usage: 86.2+ KB\n"
     ]
    }
   ],
   "source": [
    "df.info()"
   ]
  },
  {
   "cell_type": "markdown",
   "metadata": {},
   "source": [
    "La informacion inicial que obtenemos sobre el Dataset de enfermedades cardiacas es la siguiente:\n",
    "* El Dataset contiene *918 filas las cuales son unicas* sin presencia de valores duplicados\n",
    "* El Dataset contiene *12 columnas* o caracteristicas las cuales *no poseen ningun valor vacio o NAN*\n",
    "* Contamos con *5* caracteristicas del tipo Object o categoricas y *7* caracteristicas del tipo numerico tanto Int y Float\n",
    "* La variable objetivo o el target es: \"HeartDisease\""
   ]
  },
  {
   "cell_type": "markdown",
   "metadata": {},
   "source": [
    "# **EXPLORATORY DATA ANALYSIS**"
   ]
  },
  {
   "cell_type": "markdown",
   "metadata": {},
   "source": [
    "### **ANALISIS DE LAS VARIABLES CATEGORICAS**"
   ]
  },
  {
   "cell_type": "markdown",
   "metadata": {},
   "source": [
    "* Age: edad del paciente [años]\n",
    "* Sex: sexo del paciente [M: masculino, F: femenino]\n",
    "* ChestPainType: tipo de dolor de pecho [TA: angina típica, ATA: angina atípica, NAP: dolor no anginoso, ASY: asintomático]\n",
    "* RestingBP: presión sanguínea en estado de reposo [mm Hg]\n",
    "* Colesterol: colesterol sérico [mm/dl]\n",
    "* FastingBS: azúcar en sangre en ayunas [1: si FastingBS > 120 mg/dl, 0: en caso contrario]\n",
    "* RestingECG: resultados de electrocardiograma en reposo [Normal: normal, ST: tener una anormalidad en la onda ST-T (inversiones de onda T y/o elevación o depresión de ST de > 0.05 mV), LVH: muestra hipertrofia ventricular izquierda probable o definitiva según los criterios de Estes].\n",
    "* MaxHR: máximo ritmo cardíaco alcanzado [valor numérico entre 60 y 202]\n",
    "* ExerciseAngina: angina inducida por el ejercicio [Y: sí, N: no]\n",
    "Oldpeak: oldpeak = ST [valor numérico medido en depresión]\n",
    "* ST_Slope: la pendiente del ejercicio máximo en el segmento ST [Up: pendiente ascendente, Flat: plano, Down: pendiente descendente]\n",
    "* HeartDisease: enfermedad cardíaca, clase de salida [1: enfermedad cardíaca, 0: normal"
   ]
  },
  {
   "cell_type": "code",
   "execution_count": 9,
   "metadata": {},
   "outputs": [
    {
     "data": {
      "text/plain": [
       "Index(['Age', 'Sex', 'ChestPainType', 'RestingBP', 'Cholesterol', 'FastingBS',\n",
       "       'RestingECG', 'MaxHR', 'ExerciseAngina', 'Oldpeak', 'ST_Slope',\n",
       "       'HeartDisease'],\n",
       "      dtype='object')"
      ]
     },
     "execution_count": 9,
     "metadata": {},
     "output_type": "execute_result"
    }
   ],
   "source": [
    "df.columns"
   ]
  },
  {
   "cell_type": "code",
   "execution_count": 10,
   "metadata": {},
   "outputs": [],
   "source": [
    "#renombramiento\n",
    "df.rename(columns={'Age':'Edad', 'Sex':'Sexo', \n",
    "                   'ChestPainType':'TipoDolorDePecho', \n",
    "                   'RestingBP':'PresionSanguinea', \n",
    "                   'Cholesterol':'Colesterol', \n",
    "                   'FastingBS':'AzucarEnSangre',\n",
    "                    'RestingECG':'ResElectrocardiograma',\n",
    "                    'MaxHR':'MaxRitmoCardiaco',\n",
    "                    'ExerciseAngina':'AnginaEjercicio', \n",
    "                    'Oldpeak':'DepresionDelSt', \n",
    "                    'ST_Slope':'PendienteSt',\n",
    "                    'HeartDisease':'EnfermedadCardiaca'},inplace=True)"
   ]
  },
  {
   "cell_type": "code",
   "execution_count": 11,
   "metadata": {},
   "outputs": [
    {
     "name": "stdout",
     "output_type": "stream",
     "text": [
      "<class 'pandas.core.frame.DataFrame'>\n",
      "RangeIndex: 918 entries, 0 to 917\n",
      "Data columns (total 12 columns):\n",
      " #   Column                 Non-Null Count  Dtype  \n",
      "---  ------                 --------------  -----  \n",
      " 0   Edad                   918 non-null    int64  \n",
      " 1   Sexo                   918 non-null    object \n",
      " 2   TipoDolorDePecho       918 non-null    object \n",
      " 3   PresionSanguinea       918 non-null    int64  \n",
      " 4   Colesterol             918 non-null    int64  \n",
      " 5   AzucarEnSangre         918 non-null    int64  \n",
      " 6   ResElectrocardiograma  918 non-null    object \n",
      " 7   MaxRitmoCardiaco       918 non-null    int64  \n",
      " 8   AnginaEjercicio        918 non-null    object \n",
      " 9   DepresionDelSt         918 non-null    float64\n",
      " 10  PendienteSt            918 non-null    object \n",
      " 11  EnfermedadCardiaca     918 non-null    int64  \n",
      "dtypes: float64(1), int64(6), object(5)\n",
      "memory usage: 86.2+ KB\n"
     ]
    }
   ],
   "source": [
    "df.info()"
   ]
  },
  {
   "cell_type": "code",
   "execution_count": 12,
   "metadata": {},
   "outputs": [
    {
     "name": "stdout",
     "output_type": "stream",
     "text": [
      "Valores unicos en la columna 'Sexo' \n",
      "['M' 'F']\n",
      "\n",
      "Valores unicos en la columna 'TipoDolorDePecho' \n",
      "['ATA' 'NAP' 'ASY' 'TA']\n",
      "\n",
      "Valores unicos en la columna 'ResElectrocardiograma' \n",
      "['Normal' 'ST' 'LVH']\n",
      "\n",
      "Valores unicos en la columna 'AnginaEjercicio' \n",
      "['N' 'Y']\n",
      "\n",
      "Valores unicos en la columna 'PendienteSt' \n",
      "['Up' 'Flat' 'Down']\n",
      "\n"
     ]
    }
   ],
   "source": [
    "cols_categoricas =df.select_dtypes(exclude= ['int64','float64'])\n",
    "for col in cols_categoricas:\n",
    "    print(f\"Valores unicos en la columna '{col}' \")\n",
    "    print(df[col].unique())\n",
    "    print()"
   ]
  },
  {
   "cell_type": "markdown",
   "metadata": {},
   "source": [
    "*Observamos que las variables categoricas no presentan valores redundantes o incesarios por lo cual se decide procesar a realizar graficos que nos indiquen la presencia e importancia de estos datos*"
   ]
  },
  {
   "cell_type": "markdown",
   "metadata": {},
   "source": [
    "#### **GRAFICOS DE FRECUENCIA PARA LAS VARIABLES CATEGORICAS**"
   ]
  },
  {
   "cell_type": "code",
   "execution_count": 13,
   "metadata": {},
   "outputs": [
    {
     "name": "stdout",
     "output_type": "stream",
     "text": [
      "<class 'pandas.core.frame.DataFrame'>\n",
      "RangeIndex: 918 entries, 0 to 917\n",
      "Data columns (total 5 columns):\n",
      " #   Column                 Non-Null Count  Dtype \n",
      "---  ------                 --------------  ----- \n",
      " 0   Sexo                   918 non-null    object\n",
      " 1   TipoDolorDePecho       918 non-null    object\n",
      " 2   ResElectrocardiograma  918 non-null    object\n",
      " 3   AnginaEjercicio        918 non-null    object\n",
      " 4   PendienteSt            918 non-null    object\n",
      "dtypes: object(5)\n",
      "memory usage: 36.0+ KB\n"
     ]
    }
   ],
   "source": [
    "df.select_dtypes(exclude= ['int64','float64']).info()"
   ]
  },
  {
   "cell_type": "markdown",
   "metadata": {},
   "source": [
    "##### **CATEGORIA SEXO**"
   ]
  },
  {
   "cell_type": "code",
   "execution_count": 14,
   "metadata": {},
   "outputs": [
    {
     "name": "stderr",
     "output_type": "stream",
     "text": [
      "C:\\Users\\Usuario\\AppData\\Local\\Temp\\ipykernel_27244\\939927933.py:2: FutureWarning: \n",
      "\n",
      "Passing `palette` without assigning `hue` is deprecated and will be removed in v0.14.0. Assign the `x` variable to `hue` and set `legend=False` for the same effect.\n",
      "\n",
      "  sns.countplot(data=df, x=df['Sexo'], palette=['#1f77b4', '#ff7f0e'])\n"
     ]
    },
    {
     "data": {
      "image/png": "[encoded data removed]",
      "text/plain": [
       "<Figure size 800x500 with 1 Axes>"
      ]
     },
     "metadata": {},
     "output_type": "display_data"
    }
   ],
   "source": [
    "plt.figure(figsize=(8, 5))\n",
    "sns.countplot(data=df, x=df['Sexo'], palette=['#1f77b4', '#ff7f0e'])\n",
    "plt.title(f'Frecuencia de Sexo')\n",
    "plt.grid()\n",
    "plt.show()"
   ]
  },
  {
   "cell_type": "code",
   "execution_count": 15,
   "metadata": {},
   "outputs": [
    {
     "data": {
      "text/plain": [
       "Sexo\n",
       "M    725\n",
       "F    193\n",
       "Name: count, dtype: int64"
      ]
     },
     "execution_count": 15,
     "metadata": {},
     "output_type": "execute_result"
    }
   ],
   "source": [
    "df['Sexo'].value_counts()"
   ]
  },
  {
   "cell_type": "markdown",
   "metadata": {},
   "source": [
    "En base a este grafico de la distribucion de frecuencia en la categoria de sexo inferimos lo siguiente:\n",
    "* La poblacion masculina es la que sufre mas enfermedades cardiacas superando significativamente a la población femenina, observando una diferencia por encima de 500 personas.\n",
    "* Se debe tener principal enfasis en la poblaciónj masculina."
   ]
  },
  {
   "cell_type": "markdown",
   "metadata": {},
   "source": [
    "##### **CATEGORIA DEL TIPO DE DOLOR DE PECHO**"
   ]
  },
  {
   "cell_type": "code",
   "execution_count": 16,
   "metadata": {},
   "outputs": [
    {
     "data": {
      "text/plain": [
       "TipoDolorDePecho\n",
       "ASY    496\n",
       "NAP    203\n",
       "ATA    173\n",
       "TA      46\n",
       "Name: count, dtype: int64"
      ]
     },
     "execution_count": 16,
     "metadata": {},
     "output_type": "execute_result"
    }
   ],
   "source": [
    "frecuencia = df[\"TipoDolorDePecho\"].value_counts()\n",
    "frecuencia"
   ]
  },
  {
   "cell_type": "code",
   "execution_count": 17,
   "metadata": {},
   "outputs": [
    {
     "data": {
      "image/png": "[encoded data removed]",
      "text/plain": [
       "<Figure size 800x800 with 1 Axes>"
      ]
     },
     "metadata": {},
     "output_type": "display_data"
    }
   ],
   "source": [
    "plt.figure(figsize=(8,8))\n",
    "plt.pie(frecuencia,labels=frecuencia.index,autopct='%1.1f%%', \n",
    "        colors=sns.color_palette('pastel'))\n",
    "plt.title(\"Distribucion del Tipo de dolor de pecho\")\n",
    "plt.show()"
   ]
  },
  {
   "cell_type": "markdown",
   "metadata": {},
   "source": [
    "En base a este grafico de pastel inferimos lo siguiente:\n",
    "* El principal dolor de pecho que presentan la poblacion en estudio es el dolor del tipo ASY(\"Asintomatico\") el cual representa mas del 50% de ocurrencias en la poblacion de estudio.\n",
    "* EL otro 50% lo representasn los demas tipos de dolores en el precho dentro de los cuales el dolor tipo NAP(\"Dolor no asignado\") tiene una incidencia del 22.1% en la población seguido por muy poco del dolor del tipo ATA(\"Angina atipica\") representado por el 18.8% en el nivel de incidencia.\n",
    "* El tipo de dolor TA(\"Angina Tipica\") es el que tiene menor incidencia en la población."
   ]
  },
  {
   "cell_type": "markdown",
   "metadata": {},
   "source": [
    "### **ANALISIS DE LAS VARIABLES NUMERICAS**"
   ]
  },
  {
   "cell_type": "code",
   "execution_count": 18,
   "metadata": {},
   "outputs": [
    {
     "name": "stdout",
     "output_type": "stream",
     "text": [
      "<class 'pandas.core.frame.DataFrame'>\n",
      "RangeIndex: 918 entries, 0 to 917\n",
      "Data columns (total 7 columns):\n",
      " #   Column              Non-Null Count  Dtype  \n",
      "---  ------              --------------  -----  \n",
      " 0   Edad                918 non-null    int64  \n",
      " 1   PresionSanguinea    918 non-null    int64  \n",
      " 2   Colesterol          918 non-null    int64  \n",
      " 3   AzucarEnSangre      918 non-null    int64  \n",
      " 4   MaxRitmoCardiaco    918 non-null    int64  \n",
      " 5   DepresionDelSt      918 non-null    float64\n",
      " 6   EnfermedadCardiaca  918 non-null    int64  \n",
      "dtypes: float64(1), int64(6)\n",
      "memory usage: 50.3 KB\n"
     ]
    }
   ],
   "source": [
    "df.select_dtypes(exclude='object').info()"
   ]
  },
  {
   "cell_type": "code",
   "execution_count": 21,
   "metadata": {},
   "outputs": [
    {
     "name": "stdout",
     "output_type": "stream",
     "text": [
      "Valores unicos de la columna 'Edad' :\n",
      "<bound method Series.unique of 0      40\n",
      "1      49\n",
      "2      37\n",
      "3      48\n",
      "4      54\n",
      "       ..\n",
      "913    45\n",
      "914    68\n",
      "915    57\n",
      "916    57\n",
      "917    38\n",
      "Name: Edad, Length: 918, dtype: int64>\n",
      "Valores unicos de la columna 'PresionSanguinea' :\n",
      "<bound method Series.unique of 0      140\n",
      "1      160\n",
      "2      130\n",
      "3      138\n",
      "4      150\n",
      "      ... \n",
      "913    110\n",
      "914    144\n",
      "915    130\n",
      "916    130\n",
      "917    138\n",
      "Name: PresionSanguinea, Length: 918, dtype: int64>\n",
      "Valores unicos de la columna 'Colesterol' :\n",
      "<bound method Series.unique of 0      289\n",
      "1      180\n",
      "2      283\n",
      "3      214\n",
      "4      195\n",
      "      ... \n",
      "913    264\n",
      "914    193\n",
      "915    131\n",
      "916    236\n",
      "917    175\n",
      "Name: Colesterol, Length: 918, dtype: int64>\n",
      "Valores unicos de la columna 'AzucarEnSangre' :\n",
      "<bound method Series.unique of 0      0\n",
      "1      0\n",
      "2      0\n",
      "3      0\n",
      "4      0\n",
      "      ..\n",
      "913    0\n",
      "914    1\n",
      "915    0\n",
      "916    0\n",
      "917    0\n",
      "Name: AzucarEnSangre, Length: 918, dtype: int64>\n",
      "Valores unicos de la columna 'MaxRitmoCardiaco' :\n",
      "<bound method Series.unique of 0      172\n",
      "1      156\n",
      "2       98\n",
      "3      108\n",
      "4      122\n",
      "      ... \n",
      "913    132\n",
      "914    141\n",
      "915    115\n",
      "916    174\n",
      "917    173\n",
      "Name: MaxRitmoCardiaco, Length: 918, dtype: int64>\n",
      "Valores unicos de la columna 'DepresionDelSt' :\n",
      "<bound method Series.unique of 0      0.0\n",
      "1      1.0\n",
      "2      0.0\n",
      "3      1.5\n",
      "4      0.0\n",
      "      ... \n",
      "913    1.2\n",
      "914    3.4\n",
      "915    1.2\n",
      "916    0.0\n",
      "917    0.0\n",
      "Name: DepresionDelSt, Length: 918, dtype: float64>\n",
      "Valores unicos de la columna 'EnfermedadCardiaca' :\n",
      "<bound method Series.unique of 0      0\n",
      "1      1\n",
      "2      0\n",
      "3      1\n",
      "4      0\n",
      "      ..\n",
      "913    1\n",
      "914    1\n",
      "915    1\n",
      "916    1\n",
      "917    0\n",
      "Name: EnfermedadCardiaca, Length: 918, dtype: int64>\n"
     ]
    }
   ],
   "source": [
    "cols_numericas =df.select_dtypes(exclude='object')\n",
    "for col_numerica in cols_numericas:\n",
    "    print(f\"Valores unicos de la columna '{col_numerica}' :\")\n",
    "    print(df[col_numerica].unique)\n",
    "    "
   ]
  },
  {
   "cell_type": "code",
   "execution_count": 22,
   "metadata": {},
   "outputs": [
    {
     "data": {
      "text/html": [
       "<div>\n",
       "<style scoped>\n",
       "    .dataframe tbody tr th:only-of-type {\n",
       "        vertical-align: middle;\n",
       "    }\n",
       "\n",
       "    .dataframe tbody tr th {\n",
       "        vertical-align: top;\n",
       "    }\n",
       "\n",
       "    .dataframe thead th {\n",
       "        text-align: right;\n",
       "    }\n",
       "</style>\n",
       "<table border=\"1\" class=\"dataframe\">\n",
       "  <thead>\n",
       "    <tr style=\"text-align: right;\">\n",
       "      <th></th>\n",
       "      <th>count</th>\n",
       "      <th>mean</th>\n",
       "      <th>std</th>\n",
       "      <th>min</th>\n",
       "      <th>25%</th>\n",
       "      <th>50%</th>\n",
       "      <th>75%</th>\n",
       "      <th>max</th>\n",
       "    </tr>\n",
       "  </thead>\n",
       "  <tbody>\n",
       "    <tr>\n",
       "      <th>Edad</th>\n",
       "      <td>918.0</td>\n",
       "      <td>53.510893</td>\n",
       "      <td>9.432617</td>\n",
       "      <td>28.0</td>\n",
       "      <td>47.00</td>\n",
       "      <td>54.0</td>\n",
       "      <td>60.0</td>\n",
       "      <td>77.0</td>\n",
       "    </tr>\n",
       "    <tr>\n",
       "      <th>PresionSanguinea</th>\n",
       "      <td>918.0</td>\n",
       "      <td>132.396514</td>\n",
       "      <td>18.514154</td>\n",
       "      <td>0.0</td>\n",
       "      <td>120.00</td>\n",
       "      <td>130.0</td>\n",
       "      <td>140.0</td>\n",
       "      <td>200.0</td>\n",
       "    </tr>\n",
       "    <tr>\n",
       "      <th>Colesterol</th>\n",
       "      <td>918.0</td>\n",
       "      <td>198.799564</td>\n",
       "      <td>109.384145</td>\n",
       "      <td>0.0</td>\n",
       "      <td>173.25</td>\n",
       "      <td>223.0</td>\n",
       "      <td>267.0</td>\n",
       "      <td>603.0</td>\n",
       "    </tr>\n",
       "    <tr>\n",
       "      <th>AzucarEnSangre</th>\n",
       "      <td>918.0</td>\n",
       "      <td>0.233115</td>\n",
       "      <td>0.423046</td>\n",
       "      <td>0.0</td>\n",
       "      <td>0.00</td>\n",
       "      <td>0.0</td>\n",
       "      <td>0.0</td>\n",
       "      <td>1.0</td>\n",
       "    </tr>\n",
       "    <tr>\n",
       "      <th>MaxRitmoCardiaco</th>\n",
       "      <td>918.0</td>\n",
       "      <td>136.809368</td>\n",
       "      <td>25.460334</td>\n",
       "      <td>60.0</td>\n",
       "      <td>120.00</td>\n",
       "      <td>138.0</td>\n",
       "      <td>156.0</td>\n",
       "      <td>202.0</td>\n",
       "    </tr>\n",
       "    <tr>\n",
       "      <th>DepresionDelSt</th>\n",
       "      <td>918.0</td>\n",
       "      <td>0.887364</td>\n",
       "      <td>1.066570</td>\n",
       "      <td>-2.6</td>\n",
       "      <td>0.00</td>\n",
       "      <td>0.6</td>\n",
       "      <td>1.5</td>\n",
       "      <td>6.2</td>\n",
       "    </tr>\n",
       "    <tr>\n",
       "      <th>EnfermedadCardiaca</th>\n",
       "      <td>918.0</td>\n",
       "      <td>0.553377</td>\n",
       "      <td>0.497414</td>\n",
       "      <td>0.0</td>\n",
       "      <td>0.00</td>\n",
       "      <td>1.0</td>\n",
       "      <td>1.0</td>\n",
       "      <td>1.0</td>\n",
       "    </tr>\n",
       "  </tbody>\n",
       "</table>\n",
       "</div>"
      ],
      "text/plain": [
       "                    count        mean         std   min     25%    50%    75%  \\\n",
       "Edad                918.0   53.510893    9.432617  28.0   47.00   54.0   60.0   \n",
       "PresionSanguinea    918.0  132.396514   18.514154   0.0  120.00  130.0  140.0   \n",
       "Colesterol          918.0  198.799564  109.384145   0.0  173.25  223.0  267.0   \n",
       "AzucarEnSangre      918.0    0.233115    0.423046   0.0    0.00    0.0    0.0   \n",
       "MaxRitmoCardiaco    918.0  136.809368   25.460334  60.0  120.00  138.0  156.0   \n",
       "DepresionDelSt      918.0    0.887364    1.066570  -2.6    0.00    0.6    1.5   \n",
       "EnfermedadCardiaca  918.0    0.553377    0.497414   0.0    0.00    1.0    1.0   \n",
       "\n",
       "                      max  \n",
       "Edad                 77.0  \n",
       "PresionSanguinea    200.0  \n",
       "Colesterol          603.0  \n",
       "AzucarEnSangre        1.0  \n",
       "MaxRitmoCardiaco    202.0  \n",
       "DepresionDelSt        6.2  \n",
       "EnfermedadCardiaca    1.0  "
      ]
     },
     "execution_count": 22,
     "metadata": {},
     "output_type": "execute_result"
    }
   ],
   "source": [
    "df.describe().T"
   ]
  },
  {
   "cell_type": "code",
   "execution_count": 23,
   "metadata": {},
   "outputs": [
    {
     "data": {
      "text/plain": [
       "array([[<Axes: title={'center': 'Edad'}>,\n",
       "        <Axes: title={'center': 'PresionSanguinea'}>,\n",
       "        <Axes: title={'center': 'Colesterol'}>],\n",
       "       [<Axes: title={'center': 'AzucarEnSangre'}>,\n",
       "        <Axes: title={'center': 'MaxRitmoCardiaco'}>,\n",
       "        <Axes: title={'center': 'DepresionDelSt'}>],\n",
       "       [<Axes: title={'center': 'EnfermedadCardiaca'}>, <Axes: >,\n",
       "        <Axes: >]], dtype=object)"
      ]
     },
     "execution_count": 23,
     "metadata": {},
     "output_type": "execute_result"
    },
    {
     "data": {
      "image/png": "[encoded data removed]",
      "text/plain": [
       "<Figure size 1200x1200 with 9 Axes>"
      ]
     },
     "metadata": {},
     "output_type": "display_data"
    }
   ],
   "source": [
    "df.hist(bins=25,figsize=(12,12),xlabelsize='10',ylabelsize='10')"
   ]
  },
  {
   "cell_type": "markdown",
   "metadata": {},
   "source": [
    "En base al histograma observamos que existe sesgo de valores en las columnas de edad, presion sanguinea,colesterol,MaxRitmoCardiaco y DepresionDelSt, asi mismo observamos que las columnas de valores binarios son las de Azucar en sangre y nuestro target de Enfermedad Cardiaca, en base a esto inferimos que las columnas numericas en nuestro dataset no presentan una distribucion normal de valores, por lo cual se decide hacer un mapa de calor para poder identificar la correlacion y ve que features elegirt para nuestro modelo"
   ]
  },
  {
   "cell_type": "code",
   "execution_count": 25,
   "metadata": {},
   "outputs": [
    {
     "ename": "ValueError",
     "evalue": "could not convert string to float: 'M'",
     "output_type": "error",
     "traceback": [
      "\u001b[1;31m---------------------------------------------------------------------------\u001b[0m",
      "\u001b[1;31mValueError\u001b[0m                                Traceback (most recent call last)",
      "Cell \u001b[1;32mIn[25], line 2\u001b[0m\n\u001b[0;32m      1\u001b[0m plt\u001b[38;5;241m.\u001b[39mfigure(figsize\u001b[38;5;241m=\u001b[39m(\u001b[38;5;241m12\u001b[39m,\u001b[38;5;241m12\u001b[39m))\n\u001b[1;32m----> 2\u001b[0m sns\u001b[38;5;241m.\u001b[39mheatmap(\u001b[43mdf\u001b[49m\u001b[38;5;241;43m.\u001b[39;49m\u001b[43mcorr\u001b[49m\u001b[43m(\u001b[49m\u001b[43m)\u001b[49m,cmap\u001b[38;5;241m=\u001b[39msns\u001b[38;5;241m.\u001b[39mdiverging_palette(\u001b[38;5;241m240\u001b[39m,\u001b[38;5;241m10\u001b[39m,n\u001b[38;5;241m=\u001b[39m\u001b[38;5;241m9\u001b[39m),annot\u001b[38;5;241m=\u001b[39m\u001b[38;5;28;01mTrue\u001b[39;00m,fmt\u001b[38;5;241m=\u001b[39m\u001b[38;5;124m'\u001b[39m\u001b[38;5;124m.1f\u001b[39m\u001b[38;5;124m'\u001b[39m,vmin\u001b[38;5;241m=\u001b[39m\u001b[38;5;241m-\u001b[39m\u001b[38;5;241m1\u001b[39m,vmax\u001b[38;5;241m=\u001b[39m\u001b[38;5;241m1\u001b[39m)\n",
      "File \u001b[1;32mc:\\Users\\Usuario\\AppData\\Local\\Programs\\Python\\Python312\\Lib\\site-packages\\pandas\\core\\frame.py:11036\u001b[0m, in \u001b[0;36mDataFrame.corr\u001b[1;34m(self, method, min_periods, numeric_only)\u001b[0m\n\u001b[0;32m  11034\u001b[0m cols \u001b[38;5;241m=\u001b[39m data\u001b[38;5;241m.\u001b[39mcolumns\n\u001b[0;32m  11035\u001b[0m idx \u001b[38;5;241m=\u001b[39m cols\u001b[38;5;241m.\u001b[39mcopy()\n\u001b[1;32m> 11036\u001b[0m mat \u001b[38;5;241m=\u001b[39m \u001b[43mdata\u001b[49m\u001b[38;5;241;43m.\u001b[39;49m\u001b[43mto_numpy\u001b[49m\u001b[43m(\u001b[49m\u001b[43mdtype\u001b[49m\u001b[38;5;241;43m=\u001b[39;49m\u001b[38;5;28;43mfloat\u001b[39;49m\u001b[43m,\u001b[49m\u001b[43m \u001b[49m\u001b[43mna_value\u001b[49m\u001b[38;5;241;43m=\u001b[39;49m\u001b[43mnp\u001b[49m\u001b[38;5;241;43m.\u001b[39;49m\u001b[43mnan\u001b[49m\u001b[43m,\u001b[49m\u001b[43m \u001b[49m\u001b[43mcopy\u001b[49m\u001b[38;5;241;43m=\u001b[39;49m\u001b[38;5;28;43;01mFalse\u001b[39;49;00m\u001b[43m)\u001b[49m\n\u001b[0;32m  11038\u001b[0m \u001b[38;5;28;01mif\u001b[39;00m method \u001b[38;5;241m==\u001b[39m \u001b[38;5;124m\"\u001b[39m\u001b[38;5;124mpearson\u001b[39m\u001b[38;5;124m\"\u001b[39m:\n\u001b[0;32m  11039\u001b[0m     correl \u001b[38;5;241m=\u001b[39m libalgos\u001b[38;5;241m.\u001b[39mnancorr(mat, minp\u001b[38;5;241m=\u001b[39mmin_periods)\n",
      "File \u001b[1;32mc:\\Users\\Usuario\\AppData\\Local\\Programs\\Python\\Python312\\Lib\\site-packages\\pandas\\core\\frame.py:1981\u001b[0m, in \u001b[0;36mDataFrame.to_numpy\u001b[1;34m(self, dtype, copy, na_value)\u001b[0m\n\u001b[0;32m   1979\u001b[0m \u001b[38;5;28;01mif\u001b[39;00m dtype \u001b[38;5;129;01mis\u001b[39;00m \u001b[38;5;129;01mnot\u001b[39;00m \u001b[38;5;28;01mNone\u001b[39;00m:\n\u001b[0;32m   1980\u001b[0m     dtype \u001b[38;5;241m=\u001b[39m np\u001b[38;5;241m.\u001b[39mdtype(dtype)\n\u001b[1;32m-> 1981\u001b[0m result \u001b[38;5;241m=\u001b[39m \u001b[38;5;28;43mself\u001b[39;49m\u001b[38;5;241;43m.\u001b[39;49m\u001b[43m_mgr\u001b[49m\u001b[38;5;241;43m.\u001b[39;49m\u001b[43mas_array\u001b[49m\u001b[43m(\u001b[49m\u001b[43mdtype\u001b[49m\u001b[38;5;241;43m=\u001b[39;49m\u001b[43mdtype\u001b[49m\u001b[43m,\u001b[49m\u001b[43m \u001b[49m\u001b[43mcopy\u001b[49m\u001b[38;5;241;43m=\u001b[39;49m\u001b[43mcopy\u001b[49m\u001b[43m,\u001b[49m\u001b[43m \u001b[49m\u001b[43mna_value\u001b[49m\u001b[38;5;241;43m=\u001b[39;49m\u001b[43mna_value\u001b[49m\u001b[43m)\u001b[49m\n\u001b[0;32m   1982\u001b[0m \u001b[38;5;28;01mif\u001b[39;00m result\u001b[38;5;241m.\u001b[39mdtype \u001b[38;5;129;01mis\u001b[39;00m \u001b[38;5;129;01mnot\u001b[39;00m dtype:\n\u001b[0;32m   1983\u001b[0m     result \u001b[38;5;241m=\u001b[39m np\u001b[38;5;241m.\u001b[39marray(result, dtype\u001b[38;5;241m=\u001b[39mdtype, copy\u001b[38;5;241m=\u001b[39m\u001b[38;5;28;01mFalse\u001b[39;00m)\n",
      "File \u001b[1;32mc:\\Users\\Usuario\\AppData\\Local\\Programs\\Python\\Python312\\Lib\\site-packages\\pandas\\core\\internals\\managers.py:1692\u001b[0m, in \u001b[0;36mBlockManager.as_array\u001b[1;34m(self, dtype, copy, na_value)\u001b[0m\n\u001b[0;32m   1690\u001b[0m         arr\u001b[38;5;241m.\u001b[39mflags\u001b[38;5;241m.\u001b[39mwriteable \u001b[38;5;241m=\u001b[39m \u001b[38;5;28;01mFalse\u001b[39;00m\n\u001b[0;32m   1691\u001b[0m \u001b[38;5;28;01melse\u001b[39;00m:\n\u001b[1;32m-> 1692\u001b[0m     arr \u001b[38;5;241m=\u001b[39m \u001b[38;5;28;43mself\u001b[39;49m\u001b[38;5;241;43m.\u001b[39;49m\u001b[43m_interleave\u001b[49m\u001b[43m(\u001b[49m\u001b[43mdtype\u001b[49m\u001b[38;5;241;43m=\u001b[39;49m\u001b[43mdtype\u001b[49m\u001b[43m,\u001b[49m\u001b[43m \u001b[49m\u001b[43mna_value\u001b[49m\u001b[38;5;241;43m=\u001b[39;49m\u001b[43mna_value\u001b[49m\u001b[43m)\u001b[49m\n\u001b[0;32m   1693\u001b[0m     \u001b[38;5;66;03m# The underlying data was copied within _interleave, so no need\u001b[39;00m\n\u001b[0;32m   1694\u001b[0m     \u001b[38;5;66;03m# to further copy if copy=True or setting na_value\u001b[39;00m\n\u001b[0;32m   1696\u001b[0m \u001b[38;5;28;01mif\u001b[39;00m na_value \u001b[38;5;129;01mis\u001b[39;00m lib\u001b[38;5;241m.\u001b[39mno_default:\n",
      "File \u001b[1;32mc:\\Users\\Usuario\\AppData\\Local\\Programs\\Python\\Python312\\Lib\\site-packages\\pandas\\core\\internals\\managers.py:1751\u001b[0m, in \u001b[0;36mBlockManager._interleave\u001b[1;34m(self, dtype, na_value)\u001b[0m\n\u001b[0;32m   1749\u001b[0m     \u001b[38;5;28;01melse\u001b[39;00m:\n\u001b[0;32m   1750\u001b[0m         arr \u001b[38;5;241m=\u001b[39m blk\u001b[38;5;241m.\u001b[39mget_values(dtype)\n\u001b[1;32m-> 1751\u001b[0m     \u001b[43mresult\u001b[49m\u001b[43m[\u001b[49m\u001b[43mrl\u001b[49m\u001b[38;5;241;43m.\u001b[39;49m\u001b[43mindexer\u001b[49m\u001b[43m]\u001b[49m \u001b[38;5;241m=\u001b[39m arr\n\u001b[0;32m   1752\u001b[0m     itemmask[rl\u001b[38;5;241m.\u001b[39mindexer] \u001b[38;5;241m=\u001b[39m \u001b[38;5;241m1\u001b[39m\n\u001b[0;32m   1754\u001b[0m \u001b[38;5;28;01mif\u001b[39;00m \u001b[38;5;129;01mnot\u001b[39;00m itemmask\u001b[38;5;241m.\u001b[39mall():\n",
      "\u001b[1;31mValueError\u001b[0m: could not convert string to float: 'M'"
     ]
    },
    {
     "data": {
      "text/plain": [
       "<Figure size 1200x1200 with 0 Axes>"
      ]
     },
     "metadata": {},
     "output_type": "display_data"
    }
   ],
   "source": [
    "plt.figure(figsize=(12,12))\n",
    "sns.heatmap(df.corr(),cmap=sns.diverging_palette(240,10,n=9),annot=True,fmt='.1f',vmin=-1,vmax=1)"
   ]
  },
  {
   "cell_type": "code",
   "execution_count": null,
   "metadata": {},
   "outputs": [],
   "source": []
  }
 ],
 "metadata": {
  "kernelspec": {
   "display_name": "Python 3",
   "language": "python",
   "name": "python3"
  },
  "language_info": {
   "codemirror_mode": {
    "name": "ipython",
    "version": 3
   },
   "file_extension": ".py",
   "mimetype": "text/x-python",
   "name": "python",
   "nbconvert_exporter": "python",
   "pygments_lexer": "ipython3",
   "version": "3.12.0"
  }
 },
 "nbformat": 4,
 "nbformat_minor": 2
}
